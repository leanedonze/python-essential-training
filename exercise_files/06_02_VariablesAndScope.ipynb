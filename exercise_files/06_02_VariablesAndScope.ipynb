{
 "cells": [
  {
   "cell_type": "markdown",
   "metadata": {},
   "source": [
    "## Function Scope"
   ]
  },
  {
   "cell_type": "code",
   "execution_count": 1,
   "metadata": {},
   "outputs": [
    {
     "name": "stdout",
     "output_type": "stream",
     "text": [
      "(1, 2)\n",
      "{'operation': 'sum'}\n"
     ]
    }
   ],
   "source": [
    "def performOperation(*args, **kwargs):\n",
    "    print(args)\n",
    "    print(kwargs)\n",
    "\n",
    "performOperation(1, 2, operation='sum')"
   ]
  },
  {
   "cell_type": "markdown",
   "metadata": {},
   "source": [
    "### locals()"
   ]
  },
  {
   "cell_type": "code",
   "execution_count": 1,
   "metadata": {},
   "outputs": [
    {
     "name": "stdout",
     "output_type": "stream",
     "text": [
      "{'num1': 1, 'num2': 2, 'operation': 'multiply'}\n"
     ]
    },
    {
     "ename": "NameError",
     "evalue": "name 'num1' is not defined",
     "output_type": "error",
     "traceback": [
      "\u001b[0;31m---------------------------------------------------------------------------\u001b[0m",
      "\u001b[0;31mNameError\u001b[0m                                 Traceback (most recent call last)",
      "\u001b[0;32m<ipython-input-1-2e1a7170e146>\u001b[0m in \u001b[0;36m<module>\u001b[0;34m\u001b[0m\n\u001b[1;32m      4\u001b[0m \u001b[0;34m\u001b[0m\u001b[0m\n\u001b[1;32m      5\u001b[0m \u001b[0mperformOperation\u001b[0m\u001b[0;34m(\u001b[0m\u001b[0;36m1\u001b[0m\u001b[0;34m,\u001b[0m \u001b[0;36m2\u001b[0m\u001b[0;34m,\u001b[0m \u001b[0moperation\u001b[0m\u001b[0;34m=\u001b[0m\u001b[0;34m'multiply'\u001b[0m\u001b[0;34m)\u001b[0m\u001b[0;34m\u001b[0m\u001b[0;34m\u001b[0m\u001b[0m\n\u001b[0;32m----> 6\u001b[0;31m \u001b[0mprint\u001b[0m\u001b[0;34m(\u001b[0m\u001b[0mnum1\u001b[0m\u001b[0;34m)\u001b[0m\u001b[0;34m\u001b[0m\u001b[0;34m\u001b[0m\u001b[0m\n\u001b[0m",
      "\u001b[0;31mNameError\u001b[0m: name 'num1' is not defined"
     ]
    }
   ],
   "source": [
    "# locals() show all arguments of a function (variables available locally)\n",
    "def performOperation(num1, num2, operation='sum'):\n",
    "    print(locals())\n",
    "    \n",
    "performOperation(1, 2, operation='multiply')\n",
    "print(num1)"
   ]
  },
  {
   "cell_type": "markdown",
   "metadata": {},
   "source": [
    "### globals()"
   ]
  },
  {
   "cell_type": "code",
   "execution_count": 3,
   "metadata": {},
   "outputs": [
    {
     "data": {
      "text/plain": [
       "{'__name__': '__main__',\n",
       " '__doc__': 'Automatically created module for IPython interactive environment',\n",
       " '__package__': None,\n",
       " '__loader__': None,\n",
       " '__spec__': None,\n",
       " '__builtin__': <module 'builtins' (built-in)>,\n",
       " '__builtins__': <module 'builtins' (built-in)>,\n",
       " '_ih': ['',\n",
       "  \"# locals() show all arguments of a function\\ndef performOperation(num1, num2, operation='sum'):\\n    print(locals())\\n    \\nperformOperation(1, 2, operation='multiply')\\nprint(num1)\",\n",
       "  '# Global variable in the current scope\\nglobals()',\n",
       "  '# Global variable in the current script (lot more than expected!)\\nglobals()'],\n",
       " '_oh': {2: {...}},\n",
       " '_dh': ['/home/leane/python-essential-training/exercise_files'],\n",
       " 'In': ['',\n",
       "  \"# locals() show all arguments of a function\\ndef performOperation(num1, num2, operation='sum'):\\n    print(locals())\\n    \\nperformOperation(1, 2, operation='multiply')\\nprint(num1)\",\n",
       "  '# Global variable in the current scope\\nglobals()',\n",
       "  '# Global variable in the current script (lot more than expected!)\\nglobals()'],\n",
       " 'Out': {2: {...}},\n",
       " 'get_ipython': <bound method InteractiveShell.get_ipython of <ipykernel.zmqshell.ZMQInteractiveShell object at 0x7f569e120978>>,\n",
       " 'exit': <IPython.core.autocall.ZMQExitAutocall at 0x7f569d97b128>,\n",
       " 'quit': <IPython.core.autocall.ZMQExitAutocall at 0x7f569d97b128>,\n",
       " '_': {...},\n",
       " '__': '',\n",
       " '___': '',\n",
       " '_i': '# Global variable in the current scope\\nglobals()',\n",
       " '_ii': \"# locals() show all arguments of a function\\ndef performOperation(num1, num2, operation='sum'):\\n    print(locals())\\n    \\nperformOperation(1, 2, operation='multiply')\\nprint(num1)\",\n",
       " '_iii': '',\n",
       " '_i1': \"# locals() show all arguments of a function\\ndef performOperation(num1, num2, operation='sum'):\\n    print(locals())\\n    \\nperformOperation(1, 2, operation='multiply')\\nprint(num1)\",\n",
       " 'performOperation': <function __main__.performOperation(num1, num2, operation='sum')>,\n",
       " '_i2': '# Global variable in the current scope\\nglobals()',\n",
       " '_2': {...},\n",
       " '_i3': '# Global variable in the current script (lot more than expected!)\\nglobals()'}"
      ]
     },
     "execution_count": 3,
     "metadata": {},
     "output_type": "execute_result"
    }
   ],
   "source": [
    "# Global variable in the current script (lot more than expected!)\n",
    "globals()"
   ]
  },
  {
   "cell_type": "markdown",
   "metadata": {},
   "source": [
    "### Global and Local scope"
   ]
  },
  {
   "cell_type": "code",
   "execution_count": 4,
   "metadata": {},
   "outputs": [
    {
     "name": "stdout",
     "output_type": "stream",
     "text": [
      "Some global data\n",
      "{'varA': 1, 'varB': 2}\n",
      "Some global data\n",
      "{'varC': 3, 'varB': 4}\n"
     ]
    }
   ],
   "source": [
    "# Each function has access to global variable\n",
    "# But they don't have access to each other local variables\n",
    "message = 'Some global data'\n",
    "\n",
    "def function1(varA, varB):\n",
    "    print(message)\n",
    "    print(locals())\n",
    "    \n",
    "    \n",
    "def function2(varC, varB):\n",
    "    print(message)\n",
    "    print(locals())\n",
    "    \n",
    "function1(1, 2)\n",
    "function2(3, 4)"
   ]
  },
  {
   "cell_type": "code",
   "execution_count": 6,
   "metadata": {},
   "outputs": [
    {
     "name": "stdout",
     "output_type": "stream",
     "text": [
      "1\n",
      "Some local data\n",
      "{'varA': 1, 'varB': 2, 'message': 'Some local data'}\n",
      "2\n",
      "Some global data\n",
      "{'varC': 3, 'varB': 4}\n"
     ]
    }
   ],
   "source": [
    "# varA is the local variable for function1, but the global one for function2\n",
    "message = 'Some global data'\n",
    "varA = 2\n",
    "def function1(varA, varB):\n",
    "    message = 'Some local data'\n",
    "    print(varA)\n",
    "    print(message)\n",
    "    print(locals())\n",
    "    \n",
    "    \n",
    "def function2(varC, varB):\n",
    "    print(varA)\n",
    "    print(message)\n",
    "    print(locals())\n",
    "    \n",
    "function1(1, 2)\n",
    "function2(3, 4)"
   ]
  },
  {
   "cell_type": "code",
   "execution_count": 8,
   "metadata": {},
   "outputs": [
    {
     "name": "stdout",
     "output_type": "stream",
     "text": [
      "1\n",
      "inner_function local scope: {'varA': 123, 'varB': 456}\n"
     ]
    }
   ],
   "source": [
    "# We can create function inside an function\n",
    "# But they cannot be called from outside the outer function\n",
    "def function1(varA, varB):\n",
    "    message = 'Some local data'\n",
    "    print(varA)\n",
    "    def inner_function(varA, varB):\n",
    "        print(f'inner_function local scope: {locals()}')\n",
    "        \n",
    "    inner_function(123, 456)\n",
    "    \n",
    "\n",
    "function1(1, 2) \n"
   ]
  },
  {
   "cell_type": "code",
   "execution_count": 9,
   "metadata": {},
   "outputs": [
    {
     "name": "stdout",
     "output_type": "stream",
     "text": [
      "1\n",
      "{'varA': 1, 'varB': 2, 'message': 'Some local data', 'inner_function': <function function1.<locals>.inner_function at 0x7f569c33db70>}\n",
      "inner_function local scope: {'varA': 123, 'varB': 456}\n"
     ]
    }
   ],
   "source": [
    "# As \"inner_function\" is output by locals(), are functions variables?\n",
    "def function1(varA, varB):\n",
    "    message = 'Some local data'\n",
    "    print(varA)\n",
    "    def inner_function(varA, varB):\n",
    "        print(f'inner_function local scope: {locals()}')\n",
    "    \n",
    "    print(locals())\n",
    "    inner_function(123, 456)\n",
    "    \n",
    "\n",
    "function1(1, 2) \n"
   ]
  },
  {
   "cell_type": "code",
   "execution_count": null,
   "metadata": {},
   "outputs": [],
   "source": []
  }
 ],
 "metadata": {
  "kernelspec": {
   "display_name": "Python 3",
   "language": "python",
   "name": "python3"
  },
  "language_info": {
   "codemirror_mode": {
    "name": "ipython",
    "version": 3
   },
   "file_extension": ".py",
   "mimetype": "text/x-python",
   "name": "python",
   "nbconvert_exporter": "python",
   "pygments_lexer": "ipython3",
   "version": "3.7.3"
  }
 },
 "nbformat": 4,
 "nbformat_minor": 5
}
